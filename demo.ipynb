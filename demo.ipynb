{
  "nbformat": 4,
  "nbformat_minor": 0,
  "metadata": {
    "colab": {
      "name": "demo.ipynb",
      "provenance": [],
      "collapsed_sections": []
    },
    "kernelspec": {
      "name": "python3",
      "display_name": "Python 3"
    },
    "language_info": {
      "name": "python"
    },
    "accelerator": "GPU",
    "gpuClass": "standard"
  },
  "cells": [
    {
      "cell_type": "code",
      "execution_count": null,
      "metadata": {
        "id": "I-v_gxAC4ERI"
      },
      "outputs": [],
      "source": [
        "!git clone https://github.com/1qh/vehicle-count\n",
        "%cd vehicle-count\n",
        "%cp -r /content/drive/MyDrive/Computer-Vision-Project/input-video video\n",
        "%pip install https://github.com/KaiyangZhou/deep-person-reid/archive/master.zip\n",
        "%pip install -r requirements.txt\n",
        "\n",
        "from IPython.display import HTML\n",
        "from base64 import b64encode\n",
        "\n",
        "def show_video(video_path, video_width = 600):\n",
        "  video_file = open(video_path, \"r+b\").read()\n",
        "  video_url = f\"data:video/mp4;base64,{b64encode(video_file).decode()}\"\n",
        "  return HTML(f\"\"\"<video width={video_width} controls><source src=\"{video_url}\"></video>\"\"\")"
      ]
    },
    {
      "cell_type": "code",
      "source": [
        "%rm -r runs"
      ],
      "metadata": {
        "id": "h2E2tqVhM1R4"
      },
      "execution_count": 5,
      "outputs": []
    },
    {
      "cell_type": "code",
      "source": [
        "!python count1lane.py \\\n",
        "    --yolo-weights weights/trained_v5.pt \\\n",
        "    --strong-sort-weights weights/osnet_x0_25_msmt17.pt \\\n",
        "    --source video/one-lane-60s.mp4 \\\n",
        "    --save-vid"
      ],
      "metadata": {
        "id": "octljCWmi0_n"
      },
      "execution_count": null,
      "outputs": []
    },
    {
      "cell_type": "code",
      "source": [
        "!ffmpeg -i runs/track/exp/one-lane-60s.mp4 out1.mp4"
      ],
      "metadata": {
        "id": "JLkdl4LkjkOS"
      },
      "execution_count": null,
      "outputs": []
    },
    {
      "cell_type": "code",
      "source": [
        "!python count2lane.py \\\n",
        "    --yolo-weights weights/trained_v5.pt \\\n",
        "    --strong-sort-weights weights/osnet_x0_25_msmt17.pt \\\n",
        "    --source video/two-lane-20s.mp4 \\\n",
        "    --save-vid"
      ],
      "metadata": {
        "id": "X25rY1iM7gO4"
      },
      "execution_count": null,
      "outputs": []
    },
    {
      "cell_type": "code",
      "source": [
        "!ffmpeg -i runs/track/exp2/two-lane-20s.mp4 out2.mp4\n",
        "\n",
        "show_video(\"out2.mp4\")"
      ],
      "metadata": {
        "id": "TTeXdUea7hQ3"
      },
      "execution_count": null,
      "outputs": []
    }
  ]
}